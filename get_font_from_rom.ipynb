{
 "cells": [
  {
   "cell_type": "code",
   "execution_count": 15,
   "id": "cba788f9-9d9c-40ff-b8b3-f76cf3a3c6b7",
   "metadata": {},
   "outputs": [],
   "source": [
    "from PIL import Image\n",
    "import os"
   ]
  },
  {
   "cell_type": "code",
   "execution_count": 32,
   "id": "d9823bb4-83f7-4a8d-ab43-14a56bd3b9b2",
   "metadata": {},
   "outputs": [
    {
     "name": "stdout",
     "output_type": "stream",
     "text": [
      "Reading ax170_arabic.rom\n",
      "CGTABL: 17081\n",
      "Reading ax170_basic-bios1.rom\n",
      "CGTABL: 7103\n",
      "Reading expert_1.1_basic-bios1.rom\n",
      "CGTABL: 7103\n",
      "Reading fs-a1fx_basic-bios2p.rom\n",
      "CGTABL: 7103\n",
      "Reading hb-75d_basic-bios1.rom\n",
      "CGTABL: 7103\n",
      "Reading v-20_basic-bios1.rom\n",
      "CGTABL: 7103\n",
      "Reading yis503iii_basic-bios2.rom\n",
      "CGTABL: 7103\n"
     ]
    }
   ],
   "source": [
    "all_roms = list( filter( lambda x: x.upper().endswith( 'ROM' ) , os.listdir( 'rom' ) ) )\n",
    "\n",
    "for romfile in all_roms:\n",
    "\n",
    "    print( f\"Reading {romfile}\" )\n",
    "    \n",
    "    with open( \"rom/\" + romfile, 'rb' ) as f:\n",
    "        rom = f.read()\n",
    "        \n",
    "    CGTABL = 4\n",
    "    char_table = int.from_bytes( rom[ CGTABL : CGTABL+2 ] , \"little\")\n",
    "\n",
    "    print( f\"CGTABL: {char_table}\" )\n",
    "\n",
    "    if romfile == 'ax170_arabic.rom':\n",
    "        char_table = 7103 + 48 * 8 - 1 + 2 * 8 \n",
    "    \n",
    "    character_map = {}\n",
    "    \n",
    "    for char in range( 255 ):\n",
    "        character_map[char] = []\n",
    "        for i in range( 8 ):\n",
    "            b = rom[ char_table + char * 8 + i ]\n",
    "            n = 128\n",
    "            tmp = []\n",
    "            while n > 0:\n",
    "                tmp.append( 1 if b & n else 0 )\n",
    "                n >>= 1\n",
    "            character_map[char].append( tmp )\n",
    "    \n",
    "    \n",
    "    im = Image.new(mode=\"RGB\", size=(128, 128))\n",
    "    pixels = im.load()\n",
    "    \n",
    "    for char in character_map:\n",
    "    \n",
    "        map = character_map[ char ]\n",
    "        \n",
    "        base_x = 8 * ( char &  15 )\n",
    "        base_y = 8 * ( char >> 4 )\n",
    "    \n",
    "        for j in range( 8 ):\n",
    "            for i in range( 8 ):\n",
    "                pixels[ base_x + i, base_y + j ] = (255,255,255) if map[ j ][ i ] == 1 else (0,0,0)\n",
    "    \n",
    "    im.save( \"images/\" + romfile + \".png\", \"PNG\" )\n"
   ]
  },
  {
   "cell_type": "code",
   "execution_count": 4,
   "id": "13e18916-d678-401d-9edc-0755783303b8",
   "metadata": {},
   "outputs": [],
   "source": []
  },
  {
   "cell_type": "code",
   "execution_count": 5,
   "id": "611da1b7-275e-4eee-8719-402e0a6da5dd",
   "metadata": {},
   "outputs": [],
   "source": []
  },
  {
   "cell_type": "code",
   "execution_count": 7,
   "id": "5b2ba083-310b-4de0-b45c-1f9fb22f117e",
   "metadata": {},
   "outputs": [],
   "source": []
  },
  {
   "cell_type": "code",
   "execution_count": null,
   "id": "9a0d2fc3-dd10-44ba-85ce-b2536686f1d0",
   "metadata": {},
   "outputs": [],
   "source": []
  }
 ],
 "metadata": {
  "kernelspec": {
   "display_name": "Python 3 (ipykernel)",
   "language": "python",
   "name": "python3"
  },
  "language_info": {
   "codemirror_mode": {
    "name": "ipython",
    "version": 3
   },
   "file_extension": ".py",
   "mimetype": "text/x-python",
   "name": "python",
   "nbconvert_exporter": "python",
   "pygments_lexer": "ipython3",
   "version": "3.12.0"
  }
 },
 "nbformat": 4,
 "nbformat_minor": 5
}
